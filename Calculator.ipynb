{
 "cells": [
  {
   "cell_type": "code",
   "execution_count": 1,
   "id": "40f8e701",
   "metadata": {},
   "outputs": [
    {
     "name": "stdout",
     "output_type": "stream",
     "text": [
      "Simple Calculator\n",
      "Operations:\n",
      "1. Addition\n",
      "2. Subtraction\n",
      "3. Multiplication\n",
      "4. Division\n",
      "Enter the first number: 45\n",
      "Enter the second number: 85\n",
      "Enter the operation (1-4): 4\n",
      "Result: 45.0 / 85.0 = 0.5294117647058824\n"
     ]
    }
   ],
   "source": [
    "def add(x, y):\n",
    "    return x + y\n",
    "\n",
    "def subtract(x, y):\n",
    "    return x - y\n",
    "\n",
    "def multiply(x, y):\n",
    "    return x * y\n",
    "\n",
    "def divide(x, y):\n",
    "    if y != 0:\n",
    "        return x / y\n",
    "    else:\n",
    "        return \"Cannot divide by zero.\"\n",
    "\n",
    "def calculator():\n",
    "    print(\"Simple Calculator\")\n",
    "    print(\"Operations:\")\n",
    "    print(\"1. Addition\")\n",
    "    print(\"2. Subtraction\")\n",
    "    print(\"3. Multiplication\")\n",
    "    print(\"4. Division\")\n",
    "\n",
    "    try:\n",
    "        num1 = float(input(\"Enter the first number: \"))\n",
    "        num2 = float(input(\"Enter the second number: \"))\n",
    "        operation = int(input(\"Enter the operation (1-4): \"))\n",
    "\n",
    "        if 1 <= operation <= 4:\n",
    "            if operation == 1:\n",
    "                result = add(num1, num2)\n",
    "                print(f\"Result: {num1} + {num2} = {result}\")\n",
    "            elif operation == 2:\n",
    "                result = subtract(num1, num2)\n",
    "                print(f\"Result: {num1} - {num2} = {result}\")\n",
    "            elif operation == 3:\n",
    "                result = multiply(num1, num2)\n",
    "                print(f\"Result: {num1} * {num2} = {result}\")\n",
    "            elif operation == 4:\n",
    "                result = divide(num1, num2)\n",
    "                print(f\"Result: {num1} / {num2} = {result}\")\n",
    "        else:\n",
    "            print(\"Invalid operation. Please enter a number between 1 and 4.\")\n",
    "    except ValueError:\n",
    "        print(\"Invalid input. Please enter valid numbers.\")\n",
    "\n",
    "if __name__ == \"__main__\":\n",
    "    calculator()\n"
   ]
  },
  {
   "cell_type": "code",
   "execution_count": null,
   "id": "0f359723",
   "metadata": {},
   "outputs": [],
   "source": []
  }
 ],
 "metadata": {
  "kernelspec": {
   "display_name": "Python 3 (ipykernel)",
   "language": "python",
   "name": "python3"
  },
  "language_info": {
   "codemirror_mode": {
    "name": "ipython",
    "version": 3
   },
   "file_extension": ".py",
   "mimetype": "text/x-python",
   "name": "python",
   "nbconvert_exporter": "python",
   "pygments_lexer": "ipython3",
   "version": "3.10.9"
  }
 },
 "nbformat": 4,
 "nbformat_minor": 5
}
